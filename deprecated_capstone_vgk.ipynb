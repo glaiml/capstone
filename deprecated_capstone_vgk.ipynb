{
  "nbformat": 4,
  "nbformat_minor": 0,
  "metadata": {
    "kernelspec": {
      "display_name": "Python 3",
      "language": "python",
      "name": "python3"
    },
    "language_info": {
      "codemirror_mode": {
        "name": "ipython",
        "version": 3
      },
      "file_extension": ".py",
      "mimetype": "text/x-python",
      "name": "python",
      "nbconvert_exporter": "python",
      "pygments_lexer": "ipython3",
      "version": "3.7.4"
    },
    "colab": {
      "name": "Copy of capstone-vgk.ipynb",
      "provenance": [],
      "include_colab_link": true
    }
  },
  "cells": [
    {
      "cell_type": "markdown",
      "metadata": {
        "id": "view-in-github",
        "colab_type": "text"
      },
      "source": [
        "<a href=\"https://colab.research.google.com/github/glaiml/capstone/blob/master/capstone_vgk.ipynb\" target=\"_parent\"><img src=\"https://colab.research.google.com/assets/colab-badge.svg\" alt=\"Open In Colab\"/></a>"
      ]
    },
    {
      "cell_type": "markdown",
      "metadata": {
        "id": "jOi314mh7t74",
        "colab_type": "text"
      },
      "source": [
        "# AUTOMATIC TICKET ASSIGNMENT\n",
        "\n",
        "- Capstone Project \n",
        "- Batch aiml.2019.05\n",
        "- Vinayak G Kudva"
      ]
    },
    {
      "cell_type": "markdown",
      "metadata": {
        "id": "2DUz3T1y7t74",
        "colab_type": "text"
      },
      "source": [
        "## Problem\n",
        "Manual assignment of incidents is time consuming and requires human efforts. There may be mistakes due to human errors and resource consumption is carried out ineffectively because of the misaddressing. On the other hand, manual assignment increases the response and resolution times which result in user satisfaction deterioration / poor customer service."
      ]
    },
    {
      "cell_type": "markdown",
      "metadata": {
        "id": "8_Um5lvS7t75",
        "colab_type": "text"
      },
      "source": [
        "## Business Value Proposition\n",
        "In the support process, incoming incidents are analyzed and assessed by organization’s support teams to fulfill the request. In many organizations, better allocation and effective usage of the valuable support resources will directly result in substantial cost savings."
      ]
    },
    {
      "cell_type": "markdown",
      "metadata": {
        "id": "tLMbrRBo85N6",
        "colab_type": "text"
      },
      "source": [
        "### 1. Problem interpretation\n",
        "- Understand the data\n",
        "- Make an abstract or an overview based on your approach\n",
        "- Break the problem into smaller tasks\n",
        "- Discuss among your teammates and share responsibilities"
      ]
    },
    {
      "cell_type": "markdown",
      "metadata": {
        "id": "vOh8-xMA879m",
        "colab_type": "text"
      },
      "source": [
        "#### Abstract\n",
        "\n",
        "An attempt at Leveraging Machine Learning and Artifical intelligence to automatically classify tickets and assign them to the right owner in a timely manner to save effort, increase user satifaction and improve throughput in the ticketing pipeline of an organization "
      ]
    },
    {
      "cell_type": "markdown",
      "metadata": {
        "id": "6lLr1g0689px",
        "colab_type": "text"
      },
      "source": [
        "### 2. Data analysis and preprocessing: Visual displays are powerful when used well, so think carefully about the information the display.\n",
        "- Include any insightful visualization\n",
        "- Share and explain particularly meaningful features, interactions or summary of data\n",
        "- Display examples to input in your model\n",
        "- Explain changes to be incorporated into data so that it becomes ready for the model\n",
        "- Exploring the given Data files\n",
        "- Understanding the structure of data\n",
        "- Missing points in data\n",
        "- Finding inconsistencies in the data\n",
        "- Visualizing different patterns\n",
        "- Visualizing different text features\n",
        "- Dealing with missing values\n",
        "- Text preprocessing\n",
        "- Creating word vocabulary from the corpus of report text data\n",
        "- Creating tokens as required"
      ]
    },
    {
      "cell_type": "code",
      "metadata": {
        "id": "8n_4pEXn87EP",
        "colab_type": "code",
        "colab": {}
      },
      "source": [
        ""
      ],
      "execution_count": 0,
      "outputs": []
    },
    {
      "cell_type": "markdown",
      "metadata": {
        "id": "_kEsT7Zy89NO",
        "colab_type": "text"
      },
      "source": [
        "### 3. Modeling\n",
        "- What kind of neural network you have used and why?\n",
        "- What progress you have made towards your intended solution?\n",
        "- Building a model architecture which can classify.\n",
        "- Trying different model architectures by researching state of the art for similar tasks.\n",
        "- Train the model\n",
        "- To deal with large training time, save the weights so that you can use them when training the model for the second time without starting from scratch"
      ]
    },
    {
      "cell_type": "code",
      "metadata": {
        "id": "f12oD4tz87Gh",
        "colab_type": "code",
        "colab": {}
      },
      "source": [
        ""
      ],
      "execution_count": 0,
      "outputs": []
    },
    {
      "cell_type": "code",
      "metadata": {
        "id": "Iiejy-d287JY",
        "colab_type": "code",
        "colab": {}
      },
      "source": [
        ""
      ],
      "execution_count": 0,
      "outputs": []
    },
    {
      "cell_type": "markdown",
      "metadata": {
        "id": "7YEgs4dH9HVo",
        "colab_type": "text"
      },
      "source": [
        "### 4. Model evaluation\n",
        "- Describe how you will proceed with the analysis\n",
        "- Compare different models and choose which model to use\n",
        "- Do hyper-parameter tuning of your model\n",
        "- How will you build on your initial analysis to increase the accuracy of your model?\n",
        "- Test the model and report as per evaluation metrics\n",
        "- Try different models\n",
        "- Try different evaluation metrics\n",
        "- Set different hyper parameters, by trying different optimizers, loss functions, epochs, learning rate, batch size, checkpointing, early stopping etc..for these models to fine-tune them\n",
        "- Report evaluation metrics for these models along with your observation on how changing different hyper parameters leads to change in the final evaluation metric.\n"
      ]
    }
  ]
}